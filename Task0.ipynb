!pip install langchain langchain-huggingface transformers


from langchain.schema import SystemMessage, HumanMessage
!pip install -U langchain langchain-openai langchain-community openai --quiet
from langchain.memory import ConversationBufferMemory
from langchain.chains import ConversationChain
from langchain.prompts import ChatPromptTemplate, SystemMessagePromptTemplate, HumanMessagePromptTemplate
from langchain import HuggingFacePipeline
from transformers import AutoModelForCausalLM, AutoTokenizer, pipeline

# -----------------------------
# 1️⃣ Load model and tokenizer
# -----------------------------
model_id = "h2oai/h2ogpt-gm-oasst1-en-2048-open-llama-3b"
tokenizer = AutoTokenizer.from_pretrained(model_id, use_fast=False)
base_model = AutoModelForCausalLM.from_pretrained(
    model_id,
    device_map="auto"
)

pipe = pipeline(
    "text-generation",
    model=base_model,
    tokenizer=tokenizer,
    max_new_tokens=256,
    temperature=0.6,
    top_p=0.95,
    repetition_penalty=1.2
)

llm = HuggingFacePipeline(pipeline=pipe)

from langchain.chat_models import ChatOpenAI
from langchain.prompts import ChatPromptTemplate, SystemMessagePromptTemplate, HumanMessagePromptTemplate
from langchain.memory import ConversationSummaryBufferMemory


# 2️⃣ Create memory (summarizes past messages to reduce token length)
memory = ConversationSummaryBufferMemory(llm=llm, max_token_limit=500)

# 3️⃣ Create system + human prompts
system_prompt = SystemMessagePromptTemplate.from_template(
    "You are a friendly programming assistant. Always write clean, commented Python code."
)
human_prompt = HumanMessagePromptTemplate.from_template("{input}")

prompt = ChatPromptTemplate.from_messages([system_prompt, human_prompt])

# 4️⃣ Use Runnable syntax (modern replacement for LLMChain)
conversation = prompt | llm

# 5️⃣ Function to run queries
def ask(query):
    return conversation.invoke(query, memory=memory)

# 6️⃣ Example usage
print(ask("Generate a Python function to add two numbers."))
print(ask("Now modify that function to handle invalid inputs gracefully."))
print(ask("Add a function to subtract two numbers using the same style."))
